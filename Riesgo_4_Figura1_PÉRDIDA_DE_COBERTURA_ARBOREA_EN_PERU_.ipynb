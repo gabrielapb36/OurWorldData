{
  "nbformat": 4,
  "nbformat_minor": 0,
  "metadata": {
    "colab": {
      "provenance": [],
      "authorship_tag": "ABX9TyMwuHZSpfNXscn9LEf9P9w5"
    },
    "kernelspec": {
      "name": "python3",
      "display_name": "Python 3"
    },
    "language_info": {
      "name": "python"
    }
  },
  "cells": [
    {
      "cell_type": "markdown",
      "source": [
        "Riesgo 4-Figura1: PÉRDIDA-DE-COBERTURA-ARBOREA-EN-PERU"
      ],
      "metadata": {
        "id": "WCkWJyud2UgH"
      }
    },
    {
      "cell_type": "code",
      "source": [
        "import pandas as pd\n",
        "\n",
        "# URL de la API con la consulta SQL\n",
        "url = (\n",
        "    \"https://www.globalforestwatch.org/api/data/dataset/gadm__tcl__iso_change/v20250515/download/csv/\"\n",
        "    \"?sql=SELECT%20iso%2C%20umd_tree_cover_loss__year%2C%20SUM(umd_tree_cover_loss__ha)%20AS%20umd_tree_cover_loss__ha%2C%20SUM(%22gfw_gross_emissions_co2e_all_gases__Mg%22)%20AS%20%22gfw_gross_emissions_co2e_all_gases__Mg%22%20FROM%20data%20WHERE%20iso%20%3D%20%27PER%27%20AND%20umd_tree_cover_density_2000__threshold%20%3D%2030%20GROUP%20BY%20umd_tree_cover_loss__year%2C%20iso%20ORDER%20BY%20umd_tree_cover_loss__year%2C%20iso\"\n",
        ")\n",
        "\n",
        "# Descargar y cargar los datos\n",
        "df = pd.read_csv(url)\n",
        "\n",
        "# Crear columna \"Pérdida de bosques (1000 ha)\" truncando el valor en hectáreas dividido entre 1000\n",
        "df['Pérdida de bosques (1000 ha)'] = df['umd_tree_cover_loss__ha'].apply(lambda x: int(x // 1000))\n",
        "\n",
        "# Renombrar columnas para la tabla final\n",
        "df_final = df.rename(columns={\n",
        "    'umd_tree_cover_loss__year': 'Año',\n",
        "    'umd_tree_cover_loss__ha': 'Pérdida de bosques (ha)'\n",
        "})[['Año', 'Pérdida de bosques (1000 ha)', 'Pérdida de bosques (ha)']]\n",
        "\n",
        "# Mostrar la tabla final\n",
        "print(df_final)\n",
        "\n",
        "# Guardar en Excel\n",
        "df_final.to_excel('R4-PÉRDIDA-DE-COBERTURA-ARBOREA-EN-PERU.xlsx', index=False)\n",
        "print(\"Archivo guardado como R4-PÉRDIDA-DE-COBERTURA-ARBOREA-EN-PERU.xlsx\")"
      ],
      "metadata": {
        "colab": {
          "base_uri": "https://localhost:8080/"
        },
        "id": "Vn8Q_5Dc22Xt",
        "outputId": "9353d94e-0308-4f46-b598-209e37050efa"
      },
      "execution_count": 1,
      "outputs": [
        {
          "output_type": "stream",
          "name": "stdout",
          "text": [
            "     Año  Pérdida de bosques (1000 ha)  Pérdida de bosques (ha)\n",
            "0   2001                            86             86007.339576\n",
            "1   2002                            80             80455.865547\n",
            "2   2003                            73             73869.269680\n",
            "3   2004                           101            101309.452962\n",
            "4   2005                           162            162995.552645\n",
            "5   2006                            88             88903.372257\n",
            "6   2007                           115            115718.080948\n",
            "7   2008                           126            126648.998822\n",
            "8   2009                           177            177910.886704\n",
            "9   2010                           142            142293.838216\n",
            "10  2011                           125            125253.517485\n",
            "11  2012                           275            275417.423706\n",
            "12  2013                           209            209321.755423\n",
            "13  2014                           205            205417.549045\n",
            "14  2015                           166            166449.309887\n",
            "15  2016                           230            230953.450263\n",
            "16  2017                           303            303216.793669\n",
            "17  2018                           211            211643.250368\n",
            "18  2019                           231            231172.957148\n",
            "19  2020                           278            278604.098261\n",
            "20  2021                           225            225105.750515\n",
            "21  2022                           236            236061.902800\n",
            "22  2023                           227            227601.349030\n",
            "23  2024                           268            268477.168650\n",
            "Archivo guardado como R4-PÉRDIDA-DE-COBERTURA-ARBOREA-EN-PERU.xlsx\n"
          ]
        }
      ]
    }
  ]
}